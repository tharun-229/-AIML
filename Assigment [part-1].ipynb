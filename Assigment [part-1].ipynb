{
  "nbformat": 4,
  "nbformat_minor": 0,
  "metadata": {
    "colab": {
      "provenance": [],
      "authorship_tag": "ABX9TyOTmiBWMvyCSwwS6q8ZiHap",
      "include_colab_link": true
    },
    "kernelspec": {
      "name": "python3",
      "display_name": "Python 3"
    },
    "language_info": {
      "name": "python"
    }
  },
  "cells": [
    {
      "cell_type": "markdown",
      "metadata": {
        "id": "view-in-github",
        "colab_type": "text"
      },
      "source": [
        "<a href=\"https://colab.research.google.com/github/tharun-229/-AIML/blob/main/Assigment%20%5Bpart-1%5D.ipynb\" target=\"_parent\"><img src=\"https://colab.research.google.com/assets/colab-badge.svg\" alt=\"Open In Colab\"/></a>"
      ]
    },
    {
      "cell_type": "code",
      "source": [
        "my_list=[\"apple\",\"banana\",\"orange\"]"
      ],
      "metadata": {
        "id": "9kuGCJPkHEB1"
      },
      "execution_count": null,
      "outputs": []
    },
    {
      "cell_type": "code",
      "source": [
        "import array; arr = array.array('i',[1,2,3,4,5])"
      ],
      "metadata": {
        "id": "nZBNMnQDHFPF"
      },
      "execution_count": null,
      "outputs": []
    },
    {
      "cell_type": "code",
      "source": [
        "import array; arr = array.array('i',[1,2,3,4,5]);type(arr)"
      ],
      "metadata": {
        "colab": {
          "base_uri": "https://localhost:8080/"
        },
        "id": "5JgjzSLXHJKt",
        "outputId": "9b3cecfc-47d3-48df-a82b-65a95c778ee4"
      },
      "execution_count": null,
      "outputs": [
        {
          "output_type": "execute_result",
          "data": {
            "text/plain": [
              "array.array"
            ]
          },
          "metadata": {},
          "execution_count": 8
        }
      ]
    },
    {
      "cell_type": "code",
      "source": [
        "import array\n",
        "arr = array.array('i',[1,2,3,4,5])\n",
        "arr_list = list(arr)\n",
        "mul = [x*2 for x in arr_list]\n",
        "div = [x/2 for x in arr_list]\n",
        "pow = [x**2 for x in arr_list]\n"
      ],
      "metadata": {
        "id": "2PwHje9JHMmG"
      },
      "execution_count": null,
      "outputs": []
    },
    {
      "cell_type": "code",
      "source": [
        "import numpy as np\n",
        "array1 = np.array([1,2,3])\n",
        "array2 = np.array([4,5,6])\n",
        "result = array1+array2\n",
        "print(f\"Addition of two: (array1) + (array2) = (result)\")\n"
      ],
      "metadata": {
        "colab": {
          "base_uri": "https://localhost:8080/"
        },
        "id": "8fnQqB9SHQPe",
        "outputId": "ab72d77a-2aee-4ed8-dae4-f5ebb31b4f5b"
      },
      "execution_count": null,
      "outputs": [
        {
          "output_type": "stream",
          "name": "stdout",
          "text": [
            "Addition of two: (array1) + (array2) = (result)\n"
          ]
        }
      ]
    },
    {
      "cell_type": "code",
      "source": [
        "import numpy as np\n",
        "arr = np.array([1,2,3,4,5])\n",
        "sin_values = np.sin(arr)\n",
        "log_values = np.log(arr)\n",
        "log2_values = np.log2(arr)\n",
        "exp_values = np.exp(arr)\n",
        "print(\"Sine:\",sin_values)\n",
        "print(\"Natural Log:\",log_values)\n",
        "print(\"Base-2 Log:\",log2_values)\n",
        "print(\"Exponential:\",exp_values)"
      ],
      "metadata": {
        "colab": {
          "base_uri": "https://localhost:8080/"
        },
        "id": "DSTUFYYGHUsv",
        "outputId": "1c259398-36b7-4ca4-cb54-080f1cdfd9d1"
      },
      "execution_count": null,
      "outputs": [
        {
          "output_type": "stream",
          "name": "stdout",
          "text": [
            "Sine: [ 0.84147098  0.90929743  0.14112001 -0.7568025  -0.95892427]\n",
            "Natural Log: [0.         0.69314718 1.09861229 1.38629436 1.60943791]\n",
            "Base-2 Log: [0.         1.         1.5849625  2.         2.32192809]\n",
            "Exponential: [  2.71828183   7.3890561   20.08553692  54.59815003 148.4131591 ]\n"
          ]
        }
      ]
    }
  ]
}