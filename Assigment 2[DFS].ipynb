{
  "nbformat": 4,
  "nbformat_minor": 0,
  "metadata": {
    "colab": {
      "provenance": [],
      "authorship_tag": "ABX9TyOUhUg38CLzypEt6TJTUF6c",
      "include_colab_link": true
    },
    "kernelspec": {
      "name": "python3",
      "display_name": "Python 3"
    },
    "language_info": {
      "name": "python"
    }
  },
  "cells": [
    {
      "cell_type": "markdown",
      "metadata": {
        "id": "view-in-github",
        "colab_type": "text"
      },
      "source": [
        "<a href=\"https://colab.research.google.com/github/tharun-229/-AIML/blob/main/Assigment%202%5BDFS%5D.ipynb\" target=\"_parent\"><img src=\"https://colab.research.google.com/assets/colab-badge.svg\" alt=\"Open In Colab\"/></a>"
      ]
    },
    {
      "cell_type": "code",
      "execution_count": 1,
      "metadata": {
        "colab": {
          "base_uri": "https://localhost:8080/"
        },
        "id": "pItCQ3N9Mn6w",
        "outputId": "b1fd389e-b2e6-4ffe-f65d-0c635c270f2d"
      },
      "outputs": [
        {
          "output_type": "stream",
          "name": "stdout",
          "text": [
            "Following is Depth First Traversal (starting from vertex 2)\n",
            "2 0 1 3 "
          ]
        }
      ],
      "source": [
        "# Python3 program to print DFS traversal\n",
        "# from a given graph\n",
        "from collections import defaultdict\n",
        "\n",
        "\n",
        "# This class represents a directed graph using\n",
        "# adjacency list representation\n",
        "class Graph:\n",
        "\n",
        "    # Constructor\n",
        "    def __init__(self):\n",
        "\n",
        "        # Default dictionary to store graph\n",
        "        self.graph = defaultdict(list)\n",
        "\n",
        "\n",
        "    # Function to add an edge to graph\n",
        "    def addEdge(self, u, v):\n",
        "        self.graph[u].append(v)\n",
        "\n",
        "\n",
        "    # A function used by DFS\n",
        "    def DFSUtil(self, v, visited):\n",
        "\n",
        "        # Mark the current node as visited\n",
        "        # and print it\n",
        "        visited.add(v)\n",
        "        print(v, end=' ')\n",
        "\n",
        "        # Recur for all the vertices\n",
        "        # adjacent to this vertex\n",
        "        for neighbour in self.graph[v]:\n",
        "            if neighbour not in visited:\n",
        "                self.DFSUtil(neighbour, visited)\n",
        "\n",
        "\n",
        "    # The function to do DFS traversal. It uses\n",
        "    # recursive DFSUtil()\n",
        "    def DFS(self, v):\n",
        "\n",
        "        # Create a set to store visited vertices\n",
        "        visited = set()\n",
        "\n",
        "        # Call the recursive helper function\n",
        "        # to print DFS traversal\n",
        "        self.DFSUtil(v, visited)\n",
        "\n",
        "\n",
        "# Driver's code\n",
        "if __name__ == \"__main__\":\n",
        "    g = Graph()\n",
        "    g.addEdge(0, 1)\n",
        "    g.addEdge(0, 2)\n",
        "    g.addEdge(1, 2)\n",
        "    g.addEdge(2, 0)\n",
        "    g.addEdge(2, 3)\n",
        "    g.addEdge(3, 3)\n",
        "\n",
        "    print(\"Following is Depth First Traversal (starting from vertex 2)\")\n",
        "\n",
        "    # Function call\n",
        "    g.DFS(2)"
      ]
    }
  ]
}